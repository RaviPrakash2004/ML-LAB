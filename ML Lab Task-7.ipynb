{
 "cells": [
  {
   "cell_type": "code",
   "execution_count": 1,
   "id": "ed6b97cf",
   "metadata": {},
   "outputs": [],
   "source": [
    "import pandas as pd\n",
    "import numpy as np\n",
    "import matplotlib.pyplot as plt"
   ]
  },
  {
   "cell_type": "code",
   "execution_count": 30,
   "id": "58f17edb",
   "metadata": {},
   "outputs": [
    {
     "name": "stdout",
     "output_type": "stream",
     "text": [
      "The mean for ungrouped data is 6.6\n",
      "Variance: 45.039999999999985\n"
     ]
    }
   ],
   "source": [
    "import numpy as np\n",
    "\n",
    "x = np.array([1, 1, 2, 3, 4, 25, 6, 7, 8, 9])\n",
    "\n",
    "mean = np.mean(x)\n",
    "print(\"The mean for ungrouped data is\", mean)\n",
    "\n",
    "variance = np.sum((x - mean) ** 2) / (len(x))\n",
    "print(\"Variance:\", variance)\n",
    "\n"
   ]
  },
  {
   "cell_type": "code",
   "execution_count": 26,
   "id": "9a96a32e",
   "metadata": {},
   "outputs": [
    {
     "name": "stdout",
     "output_type": "stream",
     "text": [
      "Mean of x is 4.5\n",
      "Mean of y is 6.5\n",
      "The covarience is 10.722222222222221\n"
     ]
    }
   ],
   "source": [
    "x = np.array([0, 1, 2, 3, 4, 5, 6, 7, 8, 9])\n",
    "y = np.array([1, 3, 2, 5, 7, 8, 8, 9, 10, 12])\n",
    "x1=np.mean(x)\n",
    "print(\"Mean of x is\",x1)\n",
    "y1=np.mean(y)\n",
    "print(\"Mean of y is\",y1)\n",
    "x2_array = np.empty(len(x))\n",
    "for i in range(len(x)):\n",
    "    x2=x[i]-x1\n",
    "    x2_array[i] = x2\n",
    "\n",
    "y2_array = np.empty(len(x))\n",
    "for i in range(len(x)):\n",
    "    y2=y[i]-y1\n",
    "    y2_array[i] = y2 \n",
    "\n",
    "numerator=np.multiply(x2_array,y2_array)\n",
    "covar=np.sum(numerator)/(len(x)-1)\n",
    "print(\"The covarience is\",covar)"
   ]
  },
  {
   "cell_type": "code",
   "execution_count": 29,
   "id": "56f7f03a",
   "metadata": {},
   "outputs": [
    {
     "name": "stdout",
     "output_type": "stream",
     "text": [
      "Mean of x is 4.5\n",
      "Mean of y is 6.5\n",
      "Variance of x 8.25\n",
      "Varience of y 11.85\n",
      "1.0844228359720955\n"
     ]
    }
   ],
   "source": [
    "x = np.array([0, 1, 2, 3, 4, 5, 6, 7, 8, 9])\n",
    "y = np.array([1, 3, 2, 5, 7, 8, 8, 9, 10, 12])\n",
    "x1=np.mean(x)\n",
    "print(\"Mean of x is\",x1)\n",
    "y1=np.mean(y)\n",
    "print(\"Mean of y is\",y1)\n",
    "\n",
    "XVar = np.sum((x - x1) ** 2) / (len(x))\n",
    "print(\"Variance of x\", XVar)\n",
    "\n",
    "YVar = np.sum((y - y1) ** 2) / (len(x))\n",
    "print(\"Varience of y\", YVar)\n",
    "\n",
    "correl=covar/(np.sqrt(XVar*YVar))\n",
    "print(correl)"
   ]
  },
  {
   "cell_type": "code",
   "execution_count": 3,
   "id": "eb1958bb",
   "metadata": {},
   "outputs": [
    {
     "name": "stdout",
     "output_type": "stream",
     "text": [
      "Covariance Matrix:\n",
      "[[0.5 1. ]\n",
      " [1.  2. ]]\n",
      "\n",
      "Correlation Matrix:\n",
      "[[1. 1.]\n",
      " [1. 1.]]\n"
     ]
    }
   ],
   "source": [
    "import numpy as np\n",
    "\n",
    "def compute_covariance_matrix(feature_matrix):\n",
    "   \n",
    "    # Compute the mean of each feature\n",
    "    mean_vector = np.mean(feature_matrix, axis=1, keepdims=True)\n",
    "    \n",
    "    # Compute the centered feature matrix\n",
    "    centered_matrix = feature_matrix - mean_vector\n",
    "    \n",
    "    # Compute the covariance matrix\n",
    "    covariance_matrix = np.dot(centered_matrix, centered_matrix.T) / (feature_matrix.shape[1] - 1)\n",
    "    \n",
    "    return covariance_matrix\n",
    "\n",
    "def compute_correlation_matrix(feature_matrix):\n",
    "    \n",
    "    # Compute the covariance matrix\n",
    "    covariance_matrix = compute_covariance_matrix(feature_matrix)\n",
    "    \n",
    "    # Compute the standard deviations of each feature\n",
    "    std_dev = np.sqrt(np.diag(covariance_matrix))\n",
    "    \n",
    "    # Compute the correlation matrix\n",
    "    correlation_matrix = covariance_matrix / np.outer(std_dev, std_dev)\n",
    "    \n",
    "    return correlation_matrix\n",
    "\n",
    "# Create a feature matrix\n",
    "feature_matrix = np.array([[0, 1],\n",
    "                           [1, 3]])\n",
    "\n",
    "# Compute covariance matrix\n",
    "covariance_matrix = compute_covariance_matrix(feature_matrix)\n",
    "print(\"Covariance Matrix:\")\n",
    "print(covariance_matrix)\n",
    "\n",
    "# Compute correlation matrix\n",
    "correlation_matrix = compute_correlation_matrix(feature_matrix)\n",
    "print(\"\\nCorrelation Matrix:\")\n",
    "print(correlation_matrix)\n",
    "\n",
    "\n"
   ]
  }
 ],
 "metadata": {
  "kernelspec": {
   "display_name": "Python 3 (ipykernel)",
   "language": "python",
   "name": "python3"
  },
  "language_info": {
   "codemirror_mode": {
    "name": "ipython",
    "version": 3
   },
   "file_extension": ".py",
   "mimetype": "text/x-python",
   "name": "python",
   "nbconvert_exporter": "python",
   "pygments_lexer": "ipython3",
   "version": "3.9.13"
  }
 },
 "nbformat": 4,
 "nbformat_minor": 5
}
