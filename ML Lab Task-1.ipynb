{
 "cells": [
  {
   "cell_type": "markdown",
   "id": "1e09e6cb",
   "metadata": {},
   "source": [
    "## PROGRAMS ON NUMPY"
   ]
  },
  {
   "cell_type": "code",
   "execution_count": 6,
   "id": "ec68a621",
   "metadata": {},
   "outputs": [],
   "source": [
    "import numpy as np"
   ]
  },
  {
   "cell_type": "markdown",
   "id": "c0e06464",
   "metadata": {},
   "source": [
    "### Numpy program to multiply two arrays of same size element-by-element"
   ]
  },
  {
   "cell_type": "code",
   "execution_count": 6,
   "id": "a02b1729",
   "metadata": {
    "scrolled": true
   },
   "outputs": [
    {
     "name": "stdout",
     "output_type": "stream",
     "text": [
      "[[ 7 16  3]\n",
      " [20 30 12]]\n",
      "[[ 7 16  3]\n",
      " [20 30 12]]\n"
     ]
    }
   ],
   "source": [
    "a=np.array([[7,8,1],[5,6,2]])\n",
    "b=np.array([[1,2,3],[4,5,6]])\n",
    "c=a*b\n",
    "d=np.multiply(a,b)\n",
    "print(c)\n",
    "print(d)"
   ]
  },
  {
   "cell_type": "markdown",
   "id": "163c4216",
   "metadata": {},
   "source": [
    "### Numpy program to find missing data in a given array"
   ]
  },
  {
   "cell_type": "code",
   "execution_count": 26,
   "id": "5f5f3f97",
   "metadata": {},
   "outputs": [
    {
     "data": {
      "text/plain": [
       "(array([4, 5], dtype=int64),)"
      ]
     },
     "execution_count": 26,
     "metadata": {},
     "output_type": "execute_result"
    }
   ],
   "source": [
    "arr1 = np.array([2,8,5,86,np.nan,np.nan])\n",
    "\n",
    "np.where(np.isnan(arr1))"
   ]
  },
  {
   "cell_type": "markdown",
   "id": "28100727",
   "metadata": {},
   "source": [
    "### Numpy program to test whether each element of 1-D array present in a second array"
   ]
  },
  {
   "cell_type": "code",
   "execution_count": 12,
   "id": "b001000c",
   "metadata": {},
   "outputs": [
    {
     "name": "stdout",
     "output_type": "stream",
     "text": [
      "True\n",
      "False\n"
     ]
    }
   ],
   "source": [
    "f=np.array([1,2,3])\n",
    "g=np.array([1,2,3])\n",
    "i=np.array([1,2,4])\n",
    "h=np.array_equal(f,g)\n",
    "j=np.array_equal(f,i)\n",
    "print(h)\n",
    "print(j)"
   ]
  },
  {
   "cell_type": "markdown",
   "id": "8e59109e",
   "metadata": {},
   "source": [
    "### Numpy program to save numpy array in a text file"
   ]
  },
  {
   "cell_type": "code",
   "execution_count": 15,
   "id": "a8a9c578",
   "metadata": {},
   "outputs": [],
   "source": [
    "with open(\"file1.txt\",\"w\") as file1:\n",
    "    arr1 = np.array([\"1\",\"2\",\"3\",\"4\",\"5\"])\n",
    "    for i in arr1:\n",
    "        file1.write(i)\n",
    "        file1.write(\" \")"
   ]
  },
  {
   "cell_type": "markdown",
   "id": "896336a6",
   "metadata": {},
   "source": [
    "### Numpy program to create a 1-D array of 30 evenly spaced elements between 2.5 to 6.5"
   ]
  },
  {
   "cell_type": "code",
   "execution_count": 18,
   "id": "3871947b",
   "metadata": {},
   "outputs": [
    {
     "data": {
      "text/plain": [
       "array([3.92041842, 2.88076164, 4.10046913, 3.52308019, 6.39315055,\n",
       "       6.39003626, 4.92431972, 3.87537551, 3.97138578, 2.73519588,\n",
       "       3.42057142, 3.09484171, 6.20140142, 6.08712157, 5.0814917 ,\n",
       "       3.5132118 , 5.37110776, 3.89924332, 3.4557231 , 6.43685655,\n",
       "       3.35402606, 5.88904382, 6.16701069, 6.42468949, 4.46902678,\n",
       "       5.75359405, 6.35247551, 5.47867961, 4.75293584, 5.55478068])"
      ]
     },
     "execution_count": 18,
     "metadata": {},
     "output_type": "execute_result"
    }
   ],
   "source": [
    "random= np.random.uniform(2.5,6.5,[30,])\n",
    "random"
   ]
  },
  {
   "cell_type": "markdown",
   "id": "ab67083a",
   "metadata": {},
   "source": [
    "## PROGRAMS ON PANDAS"
   ]
  },
  {
   "cell_type": "code",
   "execution_count": 2,
   "id": "fad6298c",
   "metadata": {},
   "outputs": [],
   "source": [
    "import pandas as ps"
   ]
  },
  {
   "cell_type": "markdown",
   "id": "cb11c1e1",
   "metadata": {},
   "source": [
    "### Pandas program to convert Series of lists to one list"
   ]
  },
  {
   "cell_type": "code",
   "execution_count": 27,
   "id": "87d9c983",
   "metadata": {},
   "outputs": [
    {
     "name": "stdout",
     "output_type": "stream",
     "text": [
      "3    1\n",
      "4    5\n",
      "6    2\n",
      "4    4\n",
      "3    4\n",
      "dtype: int64\n"
     ]
    }
   ],
   "source": [
    "a = ps.Series([1,5,2,4,4],[3,4,6,4,3])\n",
    "print(a)"
   ]
  },
  {
   "cell_type": "markdown",
   "id": "eff6a263",
   "metadata": {},
   "source": [
    "### Pandas program to create subset of given series based on value and condition"
   ]
  },
  {
   "cell_type": "code",
   "execution_count": 29,
   "id": "61c9ec80",
   "metadata": {},
   "outputs": [
    {
     "data": {
      "text/plain": [
       "0     2\n",
       "5     4\n",
       "6    34\n",
       "dtype: int64"
      ]
     },
     "execution_count": 29,
     "metadata": {},
     "output_type": "execute_result"
    }
   ],
   "source": [
    "df1 = ps.Series([2,5,5,3,3,4,34,43])\n",
    "\n",
    "df1[df1%2==0]"
   ]
  },
  {
   "cell_type": "markdown",
   "id": "3d46f03a",
   "metadata": {},
   "source": [
    "### Pandas program to display most frequent value in a given series and replace everything else as Other in the series."
   ]
  },
  {
   "cell_type": "code",
   "execution_count": 30,
   "id": "c0d4578d",
   "metadata": {},
   "outputs": [
    {
     "data": {
      "text/plain": [
       "0       78\n",
       "1    other\n",
       "2    other\n",
       "3    other\n",
       "4    other\n",
       "5       78\n",
       "6    other\n",
       "7       78\n",
       "dtype: object"
      ]
     },
     "execution_count": 30,
     "metadata": {},
     "output_type": "execute_result"
    }
   ],
   "source": [
    "df1 = ps.Series([78,98,56,76,32,78,98,78])\n",
    "a=df1.mode()[0]\n",
    "df1[df1!=a]='other'\n",
    "df1"
   ]
  },
  {
   "cell_type": "markdown",
   "id": "6295be2d",
   "metadata": {},
   "source": [
    "### Pandas program to find the positions of numbers that are multiples of 5 of agiven series."
   ]
  },
  {
   "cell_type": "code",
   "execution_count": 34,
   "id": "a394cb81",
   "metadata": {},
   "outputs": [
    {
     "data": {
      "text/plain": [
       "Index([0, 1], dtype='int64')"
      ]
     },
     "execution_count": 34,
     "metadata": {},
     "output_type": "execute_result"
    }
   ],
   "source": [
    "df1 = ps.Series([5,10,64,34,54])\n",
    "\n",
    "df1[df1%5==0].index"
   ]
  },
  {
   "cell_type": "markdown",
   "id": "155c8f99",
   "metadata": {},
   "source": [
    "### Write a Pandas program to calculate the number of characters in each word in a given series."
   ]
  },
  {
   "cell_type": "code",
   "execution_count": 33,
   "id": "72d5002f",
   "metadata": {},
   "outputs": [
    {
     "name": "stdout",
     "output_type": "stream",
     "text": [
      "Hi 2\n",
      "I 1\n",
      "Am 2\n",
      "Ravi 4\n",
      "Prakash 7\n"
     ]
    }
   ],
   "source": [
    "df2 = ps.Series(['Hi','I','Am',\"Ravi\",'Prakash'])\n",
    "\n",
    "for i in df2:\n",
    "    print(i,len(i))"
   ]
  },
  {
   "cell_type": "markdown",
   "id": "d68436cc",
   "metadata": {},
   "source": [
    "### Pandas program to convert year-month string to dates adding a specified day of the month."
   ]
  },
  {
   "cell_type": "code",
   "execution_count": 35,
   "id": "76c6ade5",
   "metadata": {},
   "outputs": [
    {
     "name": "stdout",
     "output_type": "stream",
     "text": [
      "Original Series:\n",
      "0    Jan 2020\n",
      "1    Feb 2021\n",
      "2    Mar 2022\n",
      "3    Apr 2023\n",
      "4    May 2019\n",
      "dtype: object\n",
      "\n",
      "New dates:\n",
      "0   2020-01-11\n",
      "1   2021-02-11\n",
      "2   2022-03-11\n",
      "3   2023-04-11\n",
      "4   2019-05-11\n",
      "dtype: datetime64[ns]\n"
     ]
    }
   ],
   "source": [
    "from dateutil.parser import parse\n",
    "date_series = ps.Series(['Jan 2020', 'Feb 2021', 'Mar 2022', 'Apr 2023', 'May 2019'])\n",
    "print(\"Original Series:\")\n",
    "print(date_series)\n",
    "print(\"\\nNew dates:\")\n",
    "result = date_series.map(lambda d: parse('11 ' + d))\n",
    "print(result)"
   ]
  },
  {
   "cell_type": "markdown",
   "id": "93435461",
   "metadata": {},
   "source": [
    "### Pandas program to create and display a DataFrame from a specified dictionary data which has the index labels."
   ]
  },
  {
   "cell_type": "code",
   "execution_count": 38,
   "id": "ba50cea7",
   "metadata": {},
   "outputs": [
    {
     "data": {
      "text/html": [
       "<div>\n",
       "<style scoped>\n",
       "    .dataframe tbody tr th:only-of-type {\n",
       "        vertical-align: middle;\n",
       "    }\n",
       "\n",
       "    .dataframe tbody tr th {\n",
       "        vertical-align: top;\n",
       "    }\n",
       "\n",
       "    .dataframe thead th {\n",
       "        text-align: right;\n",
       "    }\n",
       "</style>\n",
       "<table border=\"1\" class=\"dataframe\">\n",
       "  <thead>\n",
       "    <tr style=\"text-align: right;\">\n",
       "      <th></th>\n",
       "      <th>Students</th>\n",
       "      <th>Age</th>\n",
       "      <th>Marks</th>\n",
       "      <th>Out of</th>\n",
       "    </tr>\n",
       "  </thead>\n",
       "  <tbody>\n",
       "    <tr>\n",
       "      <th>Student1</th>\n",
       "      <td>Ravi</td>\n",
       "      <td>19</td>\n",
       "      <td>230</td>\n",
       "      <td>300</td>\n",
       "    </tr>\n",
       "    <tr>\n",
       "      <th>Student2</th>\n",
       "      <td>Prakash</td>\n",
       "      <td>21</td>\n",
       "      <td>235</td>\n",
       "      <td>300</td>\n",
       "    </tr>\n",
       "    <tr>\n",
       "      <th>Student3</th>\n",
       "      <td>Gupta</td>\n",
       "      <td>19</td>\n",
       "      <td>260</td>\n",
       "      <td>300</td>\n",
       "    </tr>\n",
       "  </tbody>\n",
       "</table>\n",
       "</div>"
      ],
      "text/plain": [
       "         Students  Age  Marks  Out of\n",
       "Student1     Ravi   19    230     300\n",
       "Student2  Prakash   21    235     300\n",
       "Student3    Gupta   19    260     300"
      ]
     },
     "execution_count": 38,
     "metadata": {},
     "output_type": "execute_result"
    }
   ],
   "source": [
    "dict1 = {\n",
    "    'Students':['Ravi',\"Prakash\",\"Gupta\"],\n",
    "    'Age':[19,21,19],\n",
    "    'Marks':[230,235,260],\n",
    "    'Out of':[300,300,300]\n",
    "}\n",
    "\n",
    "ds = ps.DataFrame(dict1,index=['Student1','Student2','Student3'])\n",
    "ds"
   ]
  },
  {
   "cell_type": "markdown",
   "id": "9224823b",
   "metadata": {},
   "source": [
    "### Pandas program to select the rows where the number of attempts in the examination is greater than 2."
   ]
  },
  {
   "cell_type": "code",
   "execution_count": 41,
   "id": "4fd67a34",
   "metadata": {},
   "outputs": [
    {
     "data": {
      "text/html": [
       "<div>\n",
       "<style scoped>\n",
       "    .dataframe tbody tr th:only-of-type {\n",
       "        vertical-align: middle;\n",
       "    }\n",
       "\n",
       "    .dataframe tbody tr th {\n",
       "        vertical-align: top;\n",
       "    }\n",
       "\n",
       "    .dataframe thead th {\n",
       "        text-align: right;\n",
       "    }\n",
       "</style>\n",
       "<table border=\"1\" class=\"dataframe\">\n",
       "  <thead>\n",
       "    <tr style=\"text-align: right;\">\n",
       "      <th></th>\n",
       "      <th>Students</th>\n",
       "      <th>Age</th>\n",
       "      <th>Marks</th>\n",
       "      <th>Out of</th>\n",
       "      <th>No of Attempts</th>\n",
       "    </tr>\n",
       "  </thead>\n",
       "  <tbody>\n",
       "    <tr>\n",
       "      <th>1</th>\n",
       "      <td>Prakash</td>\n",
       "      <td>21</td>\n",
       "      <td>235</td>\n",
       "      <td>300</td>\n",
       "      <td>2</td>\n",
       "    </tr>\n",
       "  </tbody>\n",
       "</table>\n",
       "</div>"
      ],
      "text/plain": [
       "  Students  Age  Marks  Out of  No of Attempts\n",
       "1  Prakash   21    235     300               2"
      ]
     },
     "execution_count": 41,
     "metadata": {},
     "output_type": "execute_result"
    }
   ],
   "source": [
    "dict1 = {\n",
    "    'Students':['Ravi',\"Prakash\",\"Gupta\"],\n",
    "    'Age':[19,21,19],\n",
    "    'Marks':[230,235,260],\n",
    "    'Out of':[300,300,300],\n",
    "    'No of Attempts':[1,2,1]\n",
    "}\n",
    "ds1 = ps.DataFrame(dict1)\n",
    "\n",
    "ds1[ds1['No of Attempts']>1]"
   ]
  },
  {
   "cell_type": "markdown",
   "id": "5a915307",
   "metadata": {},
   "source": [
    "### Pandas program to append a new row k to data frame with given values for each column. Now delete the new row and return the original DataFrame."
   ]
  },
  {
   "cell_type": "code",
   "execution_count": 8,
   "id": "ccf764af",
   "metadata": {},
   "outputs": [
    {
     "name": "stdout",
     "output_type": "stream",
     "text": [
      "  Students  Age  Marks  Out of   k\n",
      "0     Ravi   19    230     300  54\n",
      "1  Prakash   21    235     300  43\n",
      "2    Gupta   19    260     300  54\n"
     ]
    },
    {
     "data": {
      "text/html": [
       "<div>\n",
       "<style scoped>\n",
       "    .dataframe tbody tr th:only-of-type {\n",
       "        vertical-align: middle;\n",
       "    }\n",
       "\n",
       "    .dataframe tbody tr th {\n",
       "        vertical-align: top;\n",
       "    }\n",
       "\n",
       "    .dataframe thead th {\n",
       "        text-align: right;\n",
       "    }\n",
       "</style>\n",
       "<table border=\"1\" class=\"dataframe\">\n",
       "  <thead>\n",
       "    <tr style=\"text-align: right;\">\n",
       "      <th></th>\n",
       "      <th>Students</th>\n",
       "      <th>Age</th>\n",
       "      <th>Marks</th>\n",
       "      <th>Out of</th>\n",
       "      <th>k</th>\n",
       "    </tr>\n",
       "  </thead>\n",
       "  <tbody>\n",
       "    <tr>\n",
       "      <th>0</th>\n",
       "      <td>Ravi</td>\n",
       "      <td>19</td>\n",
       "      <td>230</td>\n",
       "      <td>300</td>\n",
       "      <td>54</td>\n",
       "    </tr>\n",
       "    <tr>\n",
       "      <th>1</th>\n",
       "      <td>Prakash</td>\n",
       "      <td>21</td>\n",
       "      <td>235</td>\n",
       "      <td>300</td>\n",
       "      <td>43</td>\n",
       "    </tr>\n",
       "    <tr>\n",
       "      <th>2</th>\n",
       "      <td>Gupta</td>\n",
       "      <td>19</td>\n",
       "      <td>260</td>\n",
       "      <td>300</td>\n",
       "      <td>54</td>\n",
       "    </tr>\n",
       "  </tbody>\n",
       "</table>\n",
       "</div>"
      ],
      "text/plain": [
       "  Students  Age  Marks  Out of   k\n",
       "0     Ravi   19    230     300  54\n",
       "1  Prakash   21    235     300  43\n",
       "2    Gupta   19    260     300  54"
      ]
     },
     "execution_count": 8,
     "metadata": {},
     "output_type": "execute_result"
    }
   ],
   "source": [
    "dict1 = {\n",
    "    'Students':['Ravi',\"Prakash\",\"Gupta\"],\n",
    "    'Age':[19,21,19],\n",
    "    'Marks':[230,235,260],\n",
    "    'Out of':[300,300,300]\n",
    "}\n",
    "df4 = ps.DataFrame(dict1)\n",
    "\n",
    "df4['k'] = [54,43,54]\n",
    "\n",
    "print(df4)\n",
    "\n",
    "df4.drop(['k'],axis=1)\n",
    "df4"
   ]
  },
  {
   "cell_type": "markdown",
   "id": "1cf345c2",
   "metadata": {},
   "source": [
    "### Pandas program to sort the DataFrame first by name in descending order,then by score in ascending order."
   ]
  },
  {
   "cell_type": "code",
   "execution_count": 50,
   "id": "ca80c5fd",
   "metadata": {},
   "outputs": [
    {
     "data": {
      "text/html": [
       "<div>\n",
       "<style scoped>\n",
       "    .dataframe tbody tr th:only-of-type {\n",
       "        vertical-align: middle;\n",
       "    }\n",
       "\n",
       "    .dataframe tbody tr th {\n",
       "        vertical-align: top;\n",
       "    }\n",
       "\n",
       "    .dataframe thead th {\n",
       "        text-align: right;\n",
       "    }\n",
       "</style>\n",
       "<table border=\"1\" class=\"dataframe\">\n",
       "  <thead>\n",
       "    <tr style=\"text-align: right;\">\n",
       "      <th></th>\n",
       "      <th>Students</th>\n",
       "      <th>Age</th>\n",
       "      <th>Marks</th>\n",
       "      <th>Out of</th>\n",
       "    </tr>\n",
       "  </thead>\n",
       "  <tbody>\n",
       "    <tr>\n",
       "      <th>0</th>\n",
       "      <td>Ravi</td>\n",
       "      <td>19</td>\n",
       "      <td>230</td>\n",
       "      <td>300</td>\n",
       "    </tr>\n",
       "    <tr>\n",
       "      <th>1</th>\n",
       "      <td>Prakash</td>\n",
       "      <td>21</td>\n",
       "      <td>235</td>\n",
       "      <td>300</td>\n",
       "    </tr>\n",
       "    <tr>\n",
       "      <th>2</th>\n",
       "      <td>Gupta</td>\n",
       "      <td>19</td>\n",
       "      <td>260</td>\n",
       "      <td>300</td>\n",
       "    </tr>\n",
       "  </tbody>\n",
       "</table>\n",
       "</div>"
      ],
      "text/plain": [
       "  Students  Age  Marks  Out of\n",
       "0     Ravi   19    230     300\n",
       "1  Prakash   21    235     300\n",
       "2    Gupta   19    260     300"
      ]
     },
     "execution_count": 50,
     "metadata": {},
     "output_type": "execute_result"
    }
   ],
   "source": [
    "dict1 = {\n",
    "    'Students':['Ravi',\"Prakash\",\"Gupta\"],\n",
    "    'Age':[19,21,19],\n",
    "    'Marks':[230,235,260],\n",
    "    'Out of':[300,300,300],\n",
    "}\n",
    "df3 = ps.DataFrame(dict1)\n",
    "\n",
    "df3 = df3.sort_values(['Students','Marks'],ascending=[False,True])\n",
    "\n",
    "df3"
   ]
  },
  {
   "cell_type": "markdown",
   "id": "df440f6b",
   "metadata": {},
   "source": [
    "### Pandas program to replace the &#39;qualify&#39; column contains the values &#39;yes&#39; and no with True and False."
   ]
  },
  {
   "cell_type": "code",
   "execution_count": 3,
   "id": "898dcb4f",
   "metadata": {},
   "outputs": [
    {
     "data": {
      "text/html": [
       "<div>\n",
       "<style scoped>\n",
       "    .dataframe tbody tr th:only-of-type {\n",
       "        vertical-align: middle;\n",
       "    }\n",
       "\n",
       "    .dataframe tbody tr th {\n",
       "        vertical-align: top;\n",
       "    }\n",
       "\n",
       "    .dataframe thead th {\n",
       "        text-align: right;\n",
       "    }\n",
       "</style>\n",
       "<table border=\"1\" class=\"dataframe\">\n",
       "  <thead>\n",
       "    <tr style=\"text-align: right;\">\n",
       "      <th></th>\n",
       "      <th>Students</th>\n",
       "      <th>Age</th>\n",
       "      <th>Marks</th>\n",
       "      <th>Out of</th>\n",
       "      <th>Qualify</th>\n",
       "    </tr>\n",
       "  </thead>\n",
       "  <tbody>\n",
       "    <tr>\n",
       "      <th>0</th>\n",
       "      <td>Ravi</td>\n",
       "      <td>19</td>\n",
       "      <td>230</td>\n",
       "      <td>300</td>\n",
       "      <td>True</td>\n",
       "    </tr>\n",
       "    <tr>\n",
       "      <th>1</th>\n",
       "      <td>Prakash</td>\n",
       "      <td>21</td>\n",
       "      <td>235</td>\n",
       "      <td>300</td>\n",
       "      <td>True</td>\n",
       "    </tr>\n",
       "    <tr>\n",
       "      <th>2</th>\n",
       "      <td>Gupta</td>\n",
       "      <td>19</td>\n",
       "      <td>260</td>\n",
       "      <td>300</td>\n",
       "      <td>False</td>\n",
       "    </tr>\n",
       "  </tbody>\n",
       "</table>\n",
       "</div>"
      ],
      "text/plain": [
       "  Students  Age  Marks  Out of  Qualify\n",
       "0     Ravi   19    230     300     True\n",
       "1  Prakash   21    235     300     True\n",
       "2    Gupta   19    260     300    False"
      ]
     },
     "execution_count": 3,
     "metadata": {},
     "output_type": "execute_result"
    }
   ],
   "source": [
    "dict1 = {\n",
    "    'Students':['Ravi',\"Prakash\",\"Gupta\"],\n",
    "    'Age':[19,21,19],\n",
    "    'Marks':[230,235,260],\n",
    "    'Out of':[300,300,300],\n",
    "    'Qualify':['Yes','Yes','No']\n",
    "}\n",
    "\n",
    "ds2 = ps.DataFrame(dict1)\n",
    "\n",
    "ds2['Qualify']= ds2['Qualify'].replace({'Yes':True,'No': False})\n",
    "ds2"
   ]
  },
  {
   "cell_type": "markdown",
   "id": "90091599",
   "metadata": {},
   "source": [
    "### Pandas program to remove infinite values from a given DataFrame."
   ]
  },
  {
   "cell_type": "code",
   "execution_count": 7,
   "id": "41d2afa0",
   "metadata": {},
   "outputs": [
    {
     "data": {
      "text/html": [
       "<div>\n",
       "<style scoped>\n",
       "    .dataframe tbody tr th:only-of-type {\n",
       "        vertical-align: middle;\n",
       "    }\n",
       "\n",
       "    .dataframe tbody tr th {\n",
       "        vertical-align: top;\n",
       "    }\n",
       "\n",
       "    .dataframe thead th {\n",
       "        text-align: right;\n",
       "    }\n",
       "</style>\n",
       "<table border=\"1\" class=\"dataframe\">\n",
       "  <thead>\n",
       "    <tr style=\"text-align: right;\">\n",
       "      <th></th>\n",
       "      <th>X</th>\n",
       "      <th>Y</th>\n",
       "    </tr>\n",
       "  </thead>\n",
       "  <tbody>\n",
       "    <tr>\n",
       "      <th>0</th>\n",
       "      <td>1.0</td>\n",
       "      <td>32.0</td>\n",
       "    </tr>\n",
       "    <tr>\n",
       "      <th>1</th>\n",
       "      <td>3.0</td>\n",
       "      <td>5.0</td>\n",
       "    </tr>\n",
       "    <tr>\n",
       "      <th>3</th>\n",
       "      <td>6.0</td>\n",
       "      <td>8.0</td>\n",
       "    </tr>\n",
       "  </tbody>\n",
       "</table>\n",
       "</div>"
      ],
      "text/plain": [
       "     X     Y\n",
       "0  1.0  32.0\n",
       "1  3.0   5.0\n",
       "3  6.0   8.0"
      ]
     },
     "execution_count": 7,
     "metadata": {},
     "output_type": "execute_result"
    }
   ],
   "source": [
    "dict2 = {\n",
    "    'X':[1,3,4,6,np.inf],\n",
    "    'Y':[32,5,np.inf,8,98]\n",
    "}\n",
    "\n",
    "ds3 = ps.DataFrame(dict2)\n",
    "\n",
    "ds3 = ds3.replace({np.inf:np.NaN})\n",
    "\n",
    "ds3 = ds3.dropna()\n",
    "ds3"
   ]
  }
 ],
 "metadata": {
  "kernelspec": {
   "display_name": "Python 3 (ipykernel)",
   "language": "python",
   "name": "python3"
  },
  "language_info": {
   "codemirror_mode": {
    "name": "ipython",
    "version": 3
   },
   "file_extension": ".py",
   "mimetype": "text/x-python",
   "name": "python",
   "nbconvert_exporter": "python",
   "pygments_lexer": "ipython3",
   "version": "3.9.13"
  }
 },
 "nbformat": 4,
 "nbformat_minor": 5
}
